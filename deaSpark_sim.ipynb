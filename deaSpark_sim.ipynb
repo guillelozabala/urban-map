{
 "cells": [
  {
   "cell_type": "code",
   "execution_count": 1,
   "metadata": {},
   "outputs": [],
   "source": [
    "import pyspark\n",
    "import pandas as pd"
   ]
  },
  {
   "cell_type": "code",
   "execution_count": 2,
   "metadata": {},
   "outputs": [],
   "source": [
    "from pyspark.sql import SparkSession"
   ]
  },
  {
   "cell_type": "code",
   "execution_count": 3,
   "metadata": {},
   "outputs": [],
   "source": [
    "import os\n",
    "os.environ[\"JAVA_HOME\"] = 'C:\\Program Files\\Java\\jre-1.8'"
   ]
  },
  {
   "cell_type": "code",
   "execution_count": 4,
   "metadata": {},
   "outputs": [],
   "source": [
    "spark = SparkSession.builder.appName('pillsdata').getOrCreate()"
   ]
  },
  {
   "cell_type": "code",
   "execution_count": 5,
   "metadata": {},
   "outputs": [
    {
     "data": {
      "text/html": [
       "\n",
       "            <div>\n",
       "                <p><b>SparkSession - in-memory</b></p>\n",
       "                \n",
       "        <div>\n",
       "            <p><b>SparkContext</b></p>\n",
       "\n",
       "            <p><a href=\"http://host.docker.internal:4040\">Spark UI</a></p>\n",
       "\n",
       "            <dl>\n",
       "              <dt>Version</dt>\n",
       "                <dd><code>v3.5.0</code></dd>\n",
       "              <dt>Master</dt>\n",
       "                <dd><code>local[*]</code></dd>\n",
       "              <dt>AppName</dt>\n",
       "                <dd><code>pillsdata</code></dd>\n",
       "            </dl>\n",
       "        </div>\n",
       "        \n",
       "            </div>\n",
       "        "
      ],
      "text/plain": [
       "<pyspark.sql.session.SparkSession at 0x191c0df66d0>"
      ]
     },
     "execution_count": 5,
     "metadata": {},
     "output_type": "execute_result"
    }
   ],
   "source": [
    "spark"
   ]
  },
  {
   "cell_type": "code",
   "execution_count": 10,
   "metadata": {},
   "outputs": [],
   "source": [
    "DEA_data = spark.read.csv('D:/opioids/arcos_all_washpost/arcos_all_washpost.tsv', sep='\\t',header=True)"
   ]
  },
  {
   "cell_type": "code",
   "execution_count": 11,
   "metadata": {},
   "outputs": [
    {
     "name": "stdout",
     "output_type": "stream",
     "text": [
      "+---------------+----------------+--------------------+---------------------+-----------------+-----------------+-------------+--------------+------------+---------------+------------+-------------------+--------------------+--------------------+--------------------+---------------+----------+-----------+---------+------------+----------------+---------+-----------+-----------+--------+----+----------------+-------------+-------------+--------+----------------+------------------+-----------+--------------+--------------------+--------------------+-------+---------------------+---------------------+--------------------+--------------------+-------+\n",
      "|REPORTER_DEA_NO|REPORTER_BUS_ACT|       REPORTER_NAME|REPORTER_ADDL_CO_INFO|REPORTER_ADDRESS1|REPORTER_ADDRESS2|REPORTER_CITY|REPORTER_STATE|REPORTER_ZIP|REPORTER_COUNTY|BUYER_DEA_NO|      BUYER_BUS_ACT|          BUYER_NAME|  BUYER_ADDL_CO_INFO|      BUYER_ADDRESS1| BUYER_ADDRESS2|BUYER_CITY|BUYER_STATE|BUYER_ZIP|BUYER_COUNTY|TRANSACTION_CODE|DRUG_CODE|     NDC_NO|  DRUG_NAME|QUANTITY|UNIT|ACTION_INDICATOR|ORDER_FORM_NO|CORRECTION_NO|STRENGTH|TRANSACTION_DATE|CALC_BASE_WT_IN_GM|DOSAGE_UNIT|TRANSACTION_ID|        Product_Name|     Ingredient_Name|Measure|MME_Conversion_Factor|Combined_Labeler_Name|Revised_Company_Name|     Reporter_family|dos_str|\n",
      "+---------------+----------------+--------------------+---------------------+-----------------+-----------------+-------------+--------------+------------+---------------+------------+-------------------+--------------------+--------------------+--------------------+---------------+----------+-----------+---------+------------+----------------+---------+-----------+-----------+--------+----+----------------+-------------+-------------+--------+----------------+------------------+-----------+--------------+--------------------+--------------------+-------+---------------------+---------------------+--------------------+--------------------+-------+\n",
      "|      PA0006836|     DISTRIBUTOR|ACE SURGICAL SUPP...|                 null|1034 PEARL STREET|             null|     BROCKTON|            MA|        2301|       PLYMOUTH|   BT3484653|       PRACTITIONER|TABRIZI, HAMID R DMD|                null|389 MAIN STREET, ...|           null|    MALDEN|         MA|     2148|   MIDDLESEX|               S|     9193|00406036301|HYDROCODONE|     1.0|null|            null|         null|         null|    null|        12262012|            0.6054|      100.0|            64|HYDROCODONE BIT/A...|HYDROCODONE BITAR...|    TAB|                  1.0|           SpecGx LLC|        Mallinckrodt|ACE Surgical Supp...|   10.0|\n",
      "|      PA0021179|     DISTRIBUTOR|        APOTHECA INC|                 null|   1622 N 16TH ST|             null|      PHOENIX|            AZ|       85006|       MARICOPA|   BA9740019|    RETAIL PHARMACY|APOTHECARY SHOP D...|                null|     23620 N 20TH DR|            #12|   PHOENIX|         AZ|    85085|    MARICOPA|               S|     9193|12634051400|HYDROCODONE|     4.0|null|            null|         null|         null|    null|        03112009|           0.12108|       40.0|            52|HYDROCODONE BITAR...|HYDROCODONE BITAR...|    TAB|                  1.0|        Apotheca Inc.|       Apotheca Inc.|        Apotheca Inc|    5.0|\n",
      "|      PA0021179|     DISTRIBUTOR|        APOTHECA INC|                 null|   1622 N 16TH ST|             null|      PHOENIX|            AZ|       85006|       MARICOPA|   BH5651155|       PRACTITIONER|HOBBS, DOUGLAS DO...|                null|URGENT CARE EXTRA...|641 WEST WARNER|   GILBERT|         AZ|    85233|    MARICOPA|               S|     9193|12634051471|HYDROCODONE|    40.0|null|            null|         null|         null|    null|        11252008|            3.6324|     1200.0|           119|HYDROCODONE BITAR...|HYDROCODONE BITAR...|    TAB|                  1.0|        Apotheca Inc.|       Apotheca Inc.|        Apotheca Inc|    5.0|\n",
      "|      PA0021179|     DISTRIBUTOR|        APOTHECA INC|                 null|   1622 N 16TH ST|             null|      PHOENIX|            AZ|       85006|       MARICOPA|   BH5651155|       PRACTITIONER|HOBBS, DOUGLAS DO...|                null|URGENT CARE EXTRA...|641 WEST WARNER|   GILBERT|         AZ|    85233|    MARICOPA|               S|     9193|12634078371|HYDROCODONE|    20.0|null|            null|         null|         null|    null|        06122009|            2.7243|      600.0|            34|HYDROCODONEBITART...|HYDROCODONE BITAR...|    TAB|                  1.0|        Apotheca Inc.|       Apotheca Inc.|        Apotheca Inc|    7.5|\n",
      "|      PA0021179|     DISTRIBUTOR|        APOTHECA INC|                 null|   1622 N 16TH ST|             null|      PHOENIX|            AZ|       85006|       MARICOPA|   BH5651155|       PRACTITIONER|HOBBS, DOUGLAS DO...|                null|URGENT CARE EXTRA...|641 WEST WARNER|   GILBERT|         AZ|    85233|    MARICOPA|               S|     9193|12634051471|HYDROCODONE|    10.0|null|            null|         null|         null|    null|        10022009|            0.9081|      300.0|            19|HYDROCODONE BITAR...|HYDROCODONE BITAR...|    TAB|                  1.0|        Apotheca Inc.|       Apotheca Inc.|        Apotheca Inc|    5.0|\n",
      "|      PA0021179|     DISTRIBUTOR|        APOTHECA INC|                 null|   1622 N 16TH ST|             null|      PHOENIX|            AZ|       85006|       MARICOPA|   BH5651155|       PRACTITIONER|HOBBS, DOUGLAS DO...|                null|URGENT CARE EXTRA...|641 WEST WARNER|   GILBERT|         AZ|    85233|    MARICOPA|               S|     9193|12634051471|HYDROCODONE|    20.0|null|            null|         null|         null|    null|        03232010|            1.8162|      600.0|            73|HYDROCODONE BITAR...|HYDROCODONE BITAR...|    TAB|                  1.0|        Apotheca Inc.|       Apotheca Inc.|        Apotheca Inc|    5.0|\n",
      "|      PA0021179|     DISTRIBUTOR|        APOTHECA INC|                 null|   1622 N 16TH ST|             null|      PHOENIX|            AZ|       85006|       MARICOPA|   BJ5858002|       PRACTITIONER|JEFFERS, WILL VAH...|            NOW CARE|8251 W UNION HILL...|      SUITE 140|  GLENDALE|         AZ|    85308|    MARICOPA|               S|     9193|12634051485|HYDROCODONE|     5.0|null|            null|         null|         null|    null|        10112007|          0.227025|       75.0|            58|HYDROCODONE BITAR...|HYDROCODONE BITAR...|    TAB|                  1.0|        Apotheca Inc.|       Apotheca Inc.|        Apotheca Inc|    5.0|\n",
      "|      PA0021179|     DISTRIBUTOR|        APOTHECA INC|                 null|   1622 N 16TH ST|             null|      PHOENIX|            AZ|       85006|       MARICOPA|   BJ5858002|       PRACTITIONER|JEFFERS, WILL VAH...|            NOW CARE|8251 W UNION HILL...|      SUITE 140|  GLENDALE|         AZ|    85308|    MARICOPA|               S|     9193|12634051485|HYDROCODONE|    10.0|null|            null|         null|         null|    null|        01112008|           0.45405|      150.0|            79|HYDROCODONE BITAR...|HYDROCODONE BITAR...|    TAB|                  1.0|        Apotheca Inc.|       Apotheca Inc.|        Apotheca Inc|    5.0|\n",
      "|      PA0021179|     DISTRIBUTOR|        APOTHECA INC|                 null|   1622 N 16TH ST|             null|      PHOENIX|            AZ|       85006|       MARICOPA|   BJ5858002|       PRACTITIONER|JEFFERS, WILL VAH...|            NOW CARE|8251 W UNION HILL...|      SUITE 140|  GLENDALE|         AZ|    85308|    MARICOPA|               S|     9193|12634051485|HYDROCODONE|    10.0|null|            null|         null|         null|    null|        07142008|           0.45405|      150.0|            65|HYDROCODONE BITAR...|HYDROCODONE BITAR...|    TAB|                  1.0|        Apotheca Inc.|       Apotheca Inc.|        Apotheca Inc|    5.0|\n",
      "|      PA0021179|     DISTRIBUTOR|        APOTHECA INC|                 null|   1622 N 16TH ST|             null|      PHOENIX|            AZ|       85006|       MARICOPA|   BJ5858002|       PRACTITIONER|JEFFERS, WILL VAH...|            NOW CARE|8251 W UNION HILL...|      SUITE 140|  GLENDALE|         AZ|    85308|    MARICOPA|               S|     9193|12634051485|HYDROCODONE|    10.0|null|            null|         null|         null|    null|        12052012|           0.45405|      150.0|             5|HYDROCODONE BITAR...|HYDROCODONE BITAR...|    TAB|                  1.0|        Apotheca Inc.|       Apotheca Inc.|        Apotheca Inc|    5.0|\n",
      "|      PA0021179|     DISTRIBUTOR|        APOTHECA INC|                 null|   1622 N 16TH ST|             null|      PHOENIX|            AZ|       85006|       MARICOPA|   BK7485863|PRACTITIONER-DW/275|    KHOURY, MUFID MD|                null|6220 W BELL ROAD ...|           null|  GLENDALE|         AZ|    85308|    MARICOPA|               S|     9193|12634051480|HYDROCODONE|    10.0|null|            null|         null|         null|    null|        07242012|            0.6054|      200.0|            64|HYDROCODONE BITAR...|HYDROCODONE BITAR...|    TAB|                  1.0|        Apotheca Inc.|       Apotheca Inc.|        Apotheca Inc|    5.0|\n",
      "|      PA0021179|     DISTRIBUTOR|        APOTHECA INC|                 null|   1622 N 16TH ST|             null|      PHOENIX|            AZ|       85006|       MARICOPA|   BL2528404|       PRACTITIONER| LEDERMAN, EVAN S MD|                null|2222 E. HIGHLAND ...|      SUITE 300|   PHOENIX|         AZ|    85016|    MARICOPA|               S|     9193|12634078371|HYDROCODONE|    10.0|null|            null|         null|     00000771|    null|        01072008|           1.36215|      300.0|            53|HYDROCODONEBITART...|HYDROCODONE BITAR...|    TAB|                  1.0|        Apotheca Inc.|       Apotheca Inc.|        Apotheca Inc|    7.5|\n",
      "|      PA0021179|     DISTRIBUTOR|        APOTHECA INC|                 null|   1622 N 16TH ST|             null|      PHOENIX|            AZ|       85006|       MARICOPA|   BN9327859|       PRACTITIONER| NUCATOLA, DEBORAH L|                null| 5400 RALSTON STREET|           null|   VENTURA|         CA|    93003|     VENTURA|               S|     9193|12634051400|HYDROCODONE|    20.0|null|            null|         null|         null|    null|        02092007|            0.6054|      200.0|            30|HYDROCODONE BITAR...|HYDROCODONE BITAR...|    TAB|                  1.0|        Apotheca Inc.|       Apotheca Inc.|        Apotheca Inc|    5.0|\n",
      "|      PA0021179|     DISTRIBUTOR|        APOTHECA INC|                 null|   1622 N 16TH ST|             null|      PHOENIX|            AZ|       85006|       MARICOPA|   BS7305039|       PRACTITIONER| SAWYER, JEFFRY S MD|                null|  5615 S SOSSAMAN RD|           null|      MESA|         AZ|    85212|    MARICOPA|               S|     9193|12634051471|HYDROCODONE|    40.0|null|            null|         null|         null|    null|        09122007|            3.6324|     1200.0|            68|HYDROCODONE BITAR...|HYDROCODONE BITAR...|    TAB|                  1.0|        Apotheca Inc.|       Apotheca Inc.|        Apotheca Inc|    5.0|\n",
      "|      PA0021179|     DISTRIBUTOR|        APOTHECA INC|                 null|   1622 N 16TH ST|             null|      PHOENIX|            AZ|       85006|       MARICOPA|   BS7305039|       PRACTITIONER| SAWYER, JEFFRY S MD|                null|  5615 S SOSSAMAN RD|           null|      MESA|         AZ|    85212|    MARICOPA|               S|     9193|12634051471|HYDROCODONE|    20.0|null|            null|         null|         null|    null|        11072008|            1.8162|      600.0|            23|HYDROCODONE BITAR...|HYDROCODONE BITAR...|    TAB|                  1.0|        Apotheca Inc.|       Apotheca Inc.|        Apotheca Inc|    5.0|\n",
      "|      PA0021179|     DISTRIBUTOR|        APOTHECA INC|                 null|   1622 N 16TH ST|             null|      PHOENIX|            AZ|       85006|       MARICOPA|   BS7305039|       PRACTITIONER| SAWYER, JEFFRY S MD|                null|  5615 S SOSSAMAN RD|           null|      MESA|         AZ|    85212|    MARICOPA|               S|     9193|12634078371|HYDROCODONE|    20.0|null|            null|         null|         null|    null|        10122009|            2.7243|      600.0|            51|HYDROCODONEBITART...|HYDROCODONE BITAR...|    TAB|                  1.0|        Apotheca Inc.|       Apotheca Inc.|        Apotheca Inc|    7.5|\n",
      "|      PA0021179|     DISTRIBUTOR|        APOTHECA INC|                 null|   1622 N 16TH ST|             null|      PHOENIX|            AZ|       85006|       MARICOPA|   BS7305039|       PRACTITIONER| SAWYER, JEFFRY S MD|                null|  5615 S SOSSAMAN RD|           null|      MESA|         AZ|    85212|    MARICOPA|               S|     9193|12634078371|HYDROCODONE|    10.0|null|            null|         null|         null|    null|        02042012|           1.36215|      300.0|            16|HYDROCODONEBITART...|HYDROCODONE BITAR...|    TAB|                  1.0|        Apotheca Inc.|       Apotheca Inc.|        Apotheca Inc|    7.5|\n",
      "|      PA0021179|     DISTRIBUTOR|        APOTHECA INC|                 null|   1622 N 16TH ST|             null|      PHOENIX|            AZ|       85006|       MARICOPA|   BS9061336|PRACTITIONER-DW/275|SLOAN, RICK MICHA...|COMPASSIONATE CAR...|3201 WEST PEORIA ...|     SUITE D805|   PHOENIX|         AZ|    85029|    MARICOPA|               S|     9193|12634051480|HYDROCODONE|    10.0|null|            null|         null|         null|    null|        01172011|            0.6054|      200.0|            48|HYDROCODONE BITAR...|HYDROCODONE BITAR...|    TAB|                  1.0|        Apotheca Inc.|       Apotheca Inc.|        Apotheca Inc|    5.0|\n",
      "|      PA0021179|     DISTRIBUTOR|        APOTHECA INC|                 null|   1622 N 16TH ST|             null|      PHOENIX|            AZ|       85006|       MARICOPA|   BT6145937|       PRACTITIONER|TORRES, JOHN EDUA...|COMPLETE EMERGENC...| 2035 S. PUEBLO BLVD|           null|    PUEBLO|         CO|    81005|      PUEBLO|               S|     9193|12634051485|HYDROCODONE|    10.0|null|            null|         null|         null|    null|        01122009|           0.45405|      150.0|            30|HYDROCODONE BITAR...|HYDROCODONE BITAR...|    TAB|                  1.0|        Apotheca Inc.|       Apotheca Inc.|        Apotheca Inc|    5.0|\n",
      "|      PA0021179|     DISTRIBUTOR|        APOTHECA INC|                 null|   1622 N 16TH ST|             null|      PHOENIX|            AZ|       85006|       MARICOPA|   FA1240592|    RETAIL PHARMACY|AVELLA OF DEER VA...|                null| 23620 N 20TH DR #12|           null|   PHOENIX|         AZ|    85085|    MARICOPA|               S|     9193|12634051496|HYDROCODONE|     4.0|null|            null|         null|         null|    null|        11052009|          0.072648|       24.0|            24|HYDROCODONE BITAR...|HYDROCODONE BITAR...|    TAB|                  1.0|        Apotheca Inc.|       Apotheca Inc.|        Apotheca Inc|    5.0|\n",
      "+---------------+----------------+--------------------+---------------------+-----------------+-----------------+-------------+--------------+------------+---------------+------------+-------------------+--------------------+--------------------+--------------------+---------------+----------+-----------+---------+------------+----------------+---------+-----------+-----------+--------+----+----------------+-------------+-------------+--------+----------------+------------------+-----------+--------------+--------------------+--------------------+-------+---------------------+---------------------+--------------------+--------------------+-------+\n",
      "only showing top 20 rows\n",
      "\n"
     ]
    }
   ],
   "source": [
    "DEA_data.show()"
   ]
  },
  {
   "cell_type": "code",
   "execution_count": 7,
   "metadata": {},
   "outputs": [],
   "source": [
    "import pyspark.sql.functions as f\n",
    "from pyspark.sql import functions as F\n",
    "from pyspark.sql.functions import *\n",
    "from pyspark.sql.types import IntegerType\n",
    "\n",
    "DEA_data = DEA_data.select(['BUYER_STATE','BUYER_COUNTY','DRUG_NAME','DOSAGE_UNIT','TRANSACTION_DATE'])\n",
    "\n",
    "DEA_data = DEA_data.withColumn(\n",
    "    \"year\",\n",
    "    F.substring(F.col(\"TRANSACTION_DATE\"), 5, 4)\n",
    ")\n",
    "\n",
    "DEA_data = DEA_data.withColumn(\n",
    "    \"month\",\n",
    "    F.substring(F.col(\"TRANSACTION_DATE\"), 1, 2)\n",
    ")\n",
    "\n",
    "DEA_data = DEA_data.drop('TRANSACTION_DATE')\n",
    "\n",
    "#DEA_data = DEA_data.withColumn(\"year\",DEA_data.year.cast(IntegerType()))\n",
    "#DEA_data = DEA_data.withColumn(\"month\",DEA_data.year.cast(IntegerType()))\n",
    "#DEA_data.filter((DEA_data.year==2006)&(DEA_data.month==1))\n",
    "\n",
    "DEA_hyd = DEA_data.filter(DEA_data.DRUG_NAME == 'HYDROCODONE') \n",
    "DEA_hyd = DEA_hyd.drop('DRUG_NAME')\n",
    "#DEA_hyd = DEA_hyd.withColumnRenamed(\"QUANTITY\", \"hydQUANTITY\")\n",
    "DEA_hyd = DEA_hyd.withColumn(\"DOSAGE_UNIT\",DEA_hyd.DOSAGE_UNIT.cast(IntegerType()))\n",
    "DEA_hyd = DEA_hyd.groupBy('BUYER_STATE','BUYER_COUNTY','year','month').sum('DOSAGE_UNIT')\n",
    "\n",
    "DEA_hyd.toPandas().to_csv('D:/opioids/hydrocodone_agg.csv')"
   ]
  },
  {
   "cell_type": "code",
   "execution_count": 8,
   "metadata": {},
   "outputs": [],
   "source": [
    "DEA_oxy = DEA_data.filter(DEA_data.DRUG_NAME == 'OXYCODONE')\n",
    "DEA_oxy = DEA_oxy.drop('DRUG_NAME')\n",
    "#DEA_oxy = DEA_oxy.withColumnRenamed(\"QUANTITY\", \"oxyQUANTITY\")\n",
    "DEA_oxy = DEA_oxy.withColumn(\"DOSAGE_UNIT\",DEA_oxy.DOSAGE_UNIT.cast(IntegerType()))\n",
    "\n",
    "DEA_oxy = DEA_oxy.groupBy('BUYER_STATE','BUYER_COUNTY','year','month').sum('DOSAGE_UNIT')\n",
    "\n",
    "DEA_oxy.toPandas().to_csv('D:/opioids/oxycodone_agg.csv')\n"
   ]
  },
  {
   "cell_type": "code",
   "execution_count": 6,
   "metadata": {},
   "outputs": [],
   "source": [
    "pop_data = spark.read.text('D:/opioids/us.1969_2020.19ages.adjusted.txt')"
   ]
  },
  {
   "cell_type": "code",
   "execution_count": 7,
   "metadata": {},
   "outputs": [
    {
     "name": "stdout",
     "output_type": "stream",
     "text": [
      "+--------------------+\n",
      "|               value|\n",
      "+--------------------+\n",
      "|1969AL01001991910...|\n",
      "|1969AL01001991910...|\n",
      "|1969AL01001991910...|\n",
      "|1969AL01001991910...|\n",
      "|1969AL01001991910...|\n",
      "|1969AL01001991910...|\n",
      "|1969AL01001991910...|\n",
      "|1969AL01001991910...|\n",
      "|1969AL01001991910...|\n",
      "|1969AL01001991910...|\n",
      "|1969AL01001991911...|\n",
      "|1969AL01001991911...|\n",
      "|1969AL01001991911...|\n",
      "|1969AL01001991911...|\n",
      "|1969AL01001991911...|\n",
      "|1969AL01001991911...|\n",
      "|1969AL01001991911...|\n",
      "|1969AL01001991911...|\n",
      "|1969AL01001991911...|\n",
      "|1969AL01001991920...|\n",
      "+--------------------+\n",
      "only showing top 20 rows\n",
      "\n"
     ]
    }
   ],
   "source": [
    "pop_data.show()"
   ]
  },
  {
   "cell_type": "code",
   "execution_count": 8,
   "metadata": {},
   "outputs": [],
   "source": [
    "from pyspark.sql import functions as F\n",
    "from pyspark.sql.types import IntegerType\n",
    "\n",
    "pop_data = pop_data.withColumn(\n",
    "    \"year\",\n",
    "    F.substring(F.col(\"value\"), 1, 4)\n",
    ")\n",
    "\n",
    "pop_data = pop_data.withColumn(\n",
    "    \"state\",\n",
    "    F.substring(F.col(\"value\"), 5, 2)\n",
    ")\n",
    "\n",
    "pop_data = pop_data.withColumn(\n",
    "    \"state_fip\",\n",
    "    F.substring(F.col(\"value\"), 7, 2)\n",
    ")\n",
    "\n",
    "pop_data = pop_data.withColumn(\n",
    "    \"county_fip\",\n",
    "    F.substring(F.col(\"value\"), 9, 3)\n",
    ")\n",
    "\n",
    "pop_data = pop_data.withColumn(\n",
    "    \"registry\",\n",
    "    F.substring(F.col(\"value\"), 12, 2)\n",
    ")\n",
    "pop_data = pop_data.withColumn(\n",
    "    \"race\",\n",
    "    F.substring(F.col(\"value\"), 14,1)\n",
    ")\n",
    "pop_data = pop_data.withColumn(\n",
    "    \"origin\",\n",
    "    F.substring(F.col(\"value\"), 15, 1)\n",
    ")\n",
    "\n",
    "pop_data = pop_data.withColumn(\n",
    "    \"sex\",\n",
    "    F.substring(F.col(\"value\"), 16, 1)\n",
    ")\n",
    "\n",
    "pop_data = pop_data.withColumn(\n",
    "    \"age\",\n",
    "    F.substring(F.col(\"value\"), 17, 2)\n",
    ")\n",
    "\n",
    "pop_data = pop_data.withColumn(\n",
    "    \"population\",\n",
    "    F.substring(F.col(\"value\"), 19, 8)\n",
    ")\n",
    "\n",
    "pop_data = pop_data.drop('value')\n",
    "\n",
    "pop_data = pop_data.withColumn(\"population\",pop_data.population.cast(IntegerType()))\n",
    "pop_data = pop_data.withColumn(\"year\",pop_data.year.cast(IntegerType()))\n",
    "\n",
    "pop_data = pop_data.filter((pop_data.year>2005) & (pop_data.year<2015))\n",
    "\n",
    "pop_data = pop_data.groupBy('year','state','state_fip','county_fip','registry').sum('population')\n",
    "\n",
    "pop_data = pop_data.withColumnRenamed(\"sum(population)\", \"population\")\n",
    "\n",
    "pop_data.toPandas().to_csv('D:/opioids/population0614.csv')"
   ]
  },
  {
   "cell_type": "code",
   "execution_count": null,
   "metadata": {},
   "outputs": [],
   "source": []
  }
 ],
 "metadata": {
  "kernelspec": {
   "display_name": "Python 3",
   "language": "python",
   "name": "python3"
  },
  "language_info": {
   "codemirror_mode": {
    "name": "ipython",
    "version": 3
   },
   "file_extension": ".py",
   "mimetype": "text/x-python",
   "name": "python",
   "nbconvert_exporter": "python",
   "pygments_lexer": "ipython3",
   "version": "3.11.6"
  }
 },
 "nbformat": 4,
 "nbformat_minor": 2
}
